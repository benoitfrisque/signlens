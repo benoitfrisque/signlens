{
 "cells": [
  {
   "cell_type": "code",
   "execution_count": 1,
   "id": "9cb77028-aede-49b7-88b7-1315e96701c9",
   "metadata": {
    "execution": {
     "iopub.execute_input": "2024-03-23T07:44:12.877084Z",
     "iopub.status.busy": "2024-03-23T07:44:12.876589Z",
     "iopub.status.idle": "2024-03-23T07:44:16.795222Z",
     "shell.execute_reply": "2024-03-23T07:44:16.793425Z",
     "shell.execute_reply.started": "2024-03-23T07:44:12.877012Z"
    },
    "tags": []
   },
   "outputs": [
    {
     "name": "stderr",
     "output_type": "stream",
     "text": [
      "2024-03-23 08:44:13.589711: I tensorflow/core/platform/cpu_feature_guard.cc:210] This TensorFlow binary is optimized to use available CPU instructions in performance-critical operations.\n",
      "To enable the following instructions: AVX2 FMA, in other operations, rebuild TensorFlow with the appropriate compiler flags.\n",
      "2024-03-23 08:44:14.460811: W tensorflow/compiler/tf2tensorrt/utils/py_utils.cc:38] TF-TRT Warning: Could not find TensorRT\n"
     ]
    }
   ],
   "source": [
    "import pandas as pd\n",
    "from pathlib import Path\n",
    "\n",
    "from signlens.params import *\n",
    "from signlens.preprocessing import data, preprocess\n",
    "from utils import plot_landmarks\n",
    "\n",
    "\n",
    "# reload automatically python functions outside notebook\n",
    "%load_ext autoreload\n",
    "%autoreload 2"
   ]
  },
  {
   "cell_type": "markdown",
   "id": "8d74ecea-689d-450f-8f90-e6d0030bb906",
   "metadata": {},
   "source": [
    "## Data from landmarks"
   ]
  },
  {
   "cell_type": "code",
   "execution_count": 27,
   "id": "b8e5eece-c84d-4443-9873-01aacdf199e5",
   "metadata": {
    "execution": {
     "iopub.execute_input": "2024-03-23T07:53:20.373201Z",
     "iopub.status.busy": "2024-03-23T07:53:20.372586Z",
     "iopub.status.idle": "2024-03-23T07:53:20.578593Z",
     "shell.execute_reply": "2024-03-23T07:53:20.577555Z",
     "shell.execute_reply.started": "2024-03-23T07:53:20.373172Z"
    },
    "tags": []
   },
   "outputs": [
    {
     "name": "stdout",
     "output_type": "stream",
     "text": [
      "\u001b[34mLoading data subset from train.csv\u001b[0m\n",
      "✅ File with frames already exists, loaded matching 'sequence_id' rows.\n",
      "✅ Filtered sequences with missing frames. Size reduced from 94477 to 94461 (99.98%)\n",
      "✅ Filtered on n_classes = 250. Size reduced from 94461 to 94461 (100.00%)\n",
      "✅ Loaded 94461 rows (99.98% of the original 94477 rows) from the dataset.\n"
     ]
    }
   ],
   "source": [
    "data_landmarks = data.load_data_subset_csv(frac=1, n_classes=250, n_frames=None, noface=False, csv_path=TRAIN_CSV_PATH)"
   ]
  },
  {
   "cell_type": "code",
   "execution_count": 28,
   "id": "4d3f1b31-c15f-49a2-b3e2-69de8b74f268",
   "metadata": {
    "execution": {
     "iopub.execute_input": "2024-03-23T07:53:23.513809Z",
     "iopub.status.busy": "2024-03-23T07:53:23.512935Z",
     "iopub.status.idle": "2024-03-23T07:53:23.561414Z",
     "shell.execute_reply": "2024-03-23T07:53:23.560054Z",
     "shell.execute_reply.started": "2024-03-23T07:53:23.513783Z"
    },
    "tags": []
   },
   "outputs": [
    {
     "data": {
      "text/html": [
       "<div>\n",
       "<style scoped>\n",
       "    .dataframe tbody tr th:only-of-type {\n",
       "        vertical-align: middle;\n",
       "    }\n",
       "\n",
       "    .dataframe tbody tr th {\n",
       "        vertical-align: top;\n",
       "    }\n",
       "\n",
       "    .dataframe thead th {\n",
       "        text-align: right;\n",
       "    }\n",
       "</style>\n",
       "<table border=\"1\" class=\"dataframe\">\n",
       "  <thead>\n",
       "    <tr style=\"text-align: right;\">\n",
       "      <th></th>\n",
       "      <th>sign</th>\n",
       "      <th>sign_lower</th>\n",
       "    </tr>\n",
       "  </thead>\n",
       "  <tbody>\n",
       "    <tr>\n",
       "      <th>0</th>\n",
       "      <td>TV</td>\n",
       "      <td>tv</td>\n",
       "    </tr>\n",
       "    <tr>\n",
       "      <th>1</th>\n",
       "      <td>after</td>\n",
       "      <td>after</td>\n",
       "    </tr>\n",
       "    <tr>\n",
       "      <th>2</th>\n",
       "      <td>airplane</td>\n",
       "      <td>airplane</td>\n",
       "    </tr>\n",
       "    <tr>\n",
       "      <th>3</th>\n",
       "      <td>all</td>\n",
       "      <td>all</td>\n",
       "    </tr>\n",
       "    <tr>\n",
       "      <th>4</th>\n",
       "      <td>alligator</td>\n",
       "      <td>alligator</td>\n",
       "    </tr>\n",
       "    <tr>\n",
       "      <th>...</th>\n",
       "      <td>...</td>\n",
       "      <td>...</td>\n",
       "    </tr>\n",
       "    <tr>\n",
       "      <th>245</th>\n",
       "      <td>yesterday</td>\n",
       "      <td>yesterday</td>\n",
       "    </tr>\n",
       "    <tr>\n",
       "      <th>246</th>\n",
       "      <td>yourself</td>\n",
       "      <td>yourself</td>\n",
       "    </tr>\n",
       "    <tr>\n",
       "      <th>247</th>\n",
       "      <td>yucky</td>\n",
       "      <td>yucky</td>\n",
       "    </tr>\n",
       "    <tr>\n",
       "      <th>248</th>\n",
       "      <td>zebra</td>\n",
       "      <td>zebra</td>\n",
       "    </tr>\n",
       "    <tr>\n",
       "      <th>249</th>\n",
       "      <td>zipper</td>\n",
       "      <td>zipper</td>\n",
       "    </tr>\n",
       "  </tbody>\n",
       "</table>\n",
       "<p>250 rows × 2 columns</p>\n",
       "</div>"
      ],
      "text/plain": [
       "          sign sign_lower\n",
       "0           TV         tv\n",
       "1        after      after\n",
       "2     airplane   airplane\n",
       "3          all        all\n",
       "4    alligator  alligator\n",
       "..         ...        ...\n",
       "245  yesterday  yesterday\n",
       "246   yourself   yourself\n",
       "247      yucky      yucky\n",
       "248      zebra      zebra\n",
       "249     zipper     zipper\n",
       "\n",
       "[250 rows x 2 columns]"
      ]
     },
     "execution_count": 28,
     "metadata": {},
     "output_type": "execute_result"
    }
   ],
   "source": [
    "gloss_landmarks = pd.DataFrame(data_landmarks['sign'].unique())\\\n",
    "            .rename(columns={0:'sign'})\n",
    "gloss_landmarks['sign_lower'] = gloss_landmarks['sign'].str.lower()\n",
    "gloss_landmarks.sort_values(by='sign', inplace=True, ignore_index=True)\n",
    "gloss_landmarks\n"
   ]
  },
  {
   "cell_type": "markdown",
   "id": "a5f32b87-74c3-4715-a250-070f00c47b8b",
   "metadata": {},
   "source": [
    "## Data from videos"
   ]
  },
  {
   "cell_type": "code",
   "execution_count": 29,
   "id": "7619bacd-d40b-480d-a7f9-26c5447cc8fc",
   "metadata": {
    "execution": {
     "iopub.execute_input": "2024-03-23T07:53:27.124778Z",
     "iopub.status.busy": "2024-03-23T07:53:27.123983Z",
     "iopub.status.idle": "2024-03-23T07:53:27.524731Z",
     "shell.execute_reply": "2024-03-23T07:53:27.523581Z",
     "shell.execute_reply.started": "2024-03-23T07:53:27.124746Z"
    },
    "tags": []
   },
   "outputs": [],
   "source": [
    "WLASL_DIR = Path('../../raw_data/WLASL')\n",
    "WLASL_JSON_PATH = WLASL_DIR/'WLASL_v0.3.json'\n",
    "WLASL_VIDEO_DIR = WLASL_DIR/'videos'\n",
    "\n",
    "data_videos = pd.read_json(WLASL_JSON_PATH)"
   ]
  },
  {
   "cell_type": "code",
   "execution_count": 31,
   "id": "8ae394d2-5f8c-42e1-bdaa-8d5872211197",
   "metadata": {
    "execution": {
     "iopub.execute_input": "2024-03-23T07:53:50.188751Z",
     "iopub.status.busy": "2024-03-23T07:53:50.188121Z",
     "iopub.status.idle": "2024-03-23T07:53:50.243420Z",
     "shell.execute_reply": "2024-03-23T07:53:50.242212Z",
     "shell.execute_reply.started": "2024-03-23T07:53:50.188723Z"
    },
    "tags": []
   },
   "outputs": [
    {
     "data": {
      "text/html": [
       "<div>\n",
       "<style scoped>\n",
       "    .dataframe tbody tr th:only-of-type {\n",
       "        vertical-align: middle;\n",
       "    }\n",
       "\n",
       "    .dataframe tbody tr th {\n",
       "        vertical-align: top;\n",
       "    }\n",
       "\n",
       "    .dataframe thead th {\n",
       "        text-align: right;\n",
       "    }\n",
       "</style>\n",
       "<table border=\"1\" class=\"dataframe\">\n",
       "  <thead>\n",
       "    <tr style=\"text-align: right;\">\n",
       "      <th></th>\n",
       "      <th>sign_videos</th>\n",
       "      <th>sign_videos_lower</th>\n",
       "    </tr>\n",
       "  </thead>\n",
       "  <tbody>\n",
       "    <tr>\n",
       "      <th>0</th>\n",
       "      <td>book</td>\n",
       "      <td>book</td>\n",
       "    </tr>\n",
       "    <tr>\n",
       "      <th>1</th>\n",
       "      <td>drink</td>\n",
       "      <td>drink</td>\n",
       "    </tr>\n",
       "    <tr>\n",
       "      <th>2</th>\n",
       "      <td>computer</td>\n",
       "      <td>computer</td>\n",
       "    </tr>\n",
       "    <tr>\n",
       "      <th>3</th>\n",
       "      <td>before</td>\n",
       "      <td>before</td>\n",
       "    </tr>\n",
       "    <tr>\n",
       "      <th>4</th>\n",
       "      <td>chair</td>\n",
       "      <td>chair</td>\n",
       "    </tr>\n",
       "    <tr>\n",
       "      <th>...</th>\n",
       "      <td>...</td>\n",
       "      <td>...</td>\n",
       "    </tr>\n",
       "    <tr>\n",
       "      <th>1995</th>\n",
       "      <td>washington</td>\n",
       "      <td>washington</td>\n",
       "    </tr>\n",
       "    <tr>\n",
       "      <th>1996</th>\n",
       "      <td>waterfall</td>\n",
       "      <td>waterfall</td>\n",
       "    </tr>\n",
       "    <tr>\n",
       "      <th>1997</th>\n",
       "      <td>weigh</td>\n",
       "      <td>weigh</td>\n",
       "    </tr>\n",
       "    <tr>\n",
       "      <th>1998</th>\n",
       "      <td>wheelchair</td>\n",
       "      <td>wheelchair</td>\n",
       "    </tr>\n",
       "    <tr>\n",
       "      <th>1999</th>\n",
       "      <td>whistle</td>\n",
       "      <td>whistle</td>\n",
       "    </tr>\n",
       "  </tbody>\n",
       "</table>\n",
       "<p>2000 rows × 2 columns</p>\n",
       "</div>"
      ],
      "text/plain": [
       "     sign_videos sign_videos_lower\n",
       "0           book              book\n",
       "1          drink             drink\n",
       "2       computer          computer\n",
       "3         before            before\n",
       "4          chair             chair\n",
       "...          ...               ...\n",
       "1995  washington        washington\n",
       "1996   waterfall         waterfall\n",
       "1997       weigh             weigh\n",
       "1998  wheelchair        wheelchair\n",
       "1999     whistle           whistle\n",
       "\n",
       "[2000 rows x 2 columns]"
      ]
     },
     "execution_count": 31,
     "metadata": {},
     "output_type": "execute_result"
    }
   ],
   "source": [
    "gloss_videos = pd.DataFrame(data_videos['gloss'].unique())\\\n",
    "            .rename(columns={0:'sign_videos'})\n",
    "gloss_videos['sign_videos_lower'] = gloss_videos['sign_videos'].str.lower()\n",
    "gloss_videos\n"
   ]
  },
  {
   "cell_type": "markdown",
   "id": "95a08f3e-4f76-452e-86bc-b00ae4c6211a",
   "metadata": {},
   "source": [
    "## Merge"
   ]
  },
  {
   "cell_type": "code",
   "execution_count": 39,
   "id": "63ad2037-fc58-4eb2-ad9a-46f60dd7d1e9",
   "metadata": {
    "execution": {
     "iopub.execute_input": "2024-03-23T07:55:18.018279Z",
     "iopub.status.busy": "2024-03-23T07:55:18.017241Z",
     "iopub.status.idle": "2024-03-23T07:55:18.070634Z",
     "shell.execute_reply": "2024-03-23T07:55:18.069037Z",
     "shell.execute_reply.started": "2024-03-23T07:55:18.018241Z"
    },
    "tags": []
   },
   "outputs": [
    {
     "data": {
      "text/plain": [
       "0        book\n",
       "1       drink\n",
       "2      before\n",
       "3       chair\n",
       "4          go\n",
       "        ...  \n",
       "196      gift\n",
       "197      lamp\n",
       "198     penny\n",
       "199     stuck\n",
       "200        TV\n",
       "Name: sign, Length: 201, dtype: object"
      ]
     },
     "execution_count": 39,
     "metadata": {},
     "output_type": "execute_result"
    }
   ],
   "source": [
    "# Merge df with videos and df from landmarks to take only the matchin elements (the sign videos should be sorted by most used asl signs)\n",
    "merged_df = gloss_videos.merge(gloss_landmarks, left_on='sign_videos_lower', right_on='sign_lower').reset_index()\n",
    "most_used_signs = merged_df.sign\n",
    "most_used_signs"
   ]
  },
  {
   "cell_type": "code",
   "execution_count": 43,
   "id": "90d25b4b-a2a3-4235-8cb2-c8d1565d096c",
   "metadata": {
    "execution": {
     "iopub.execute_input": "2024-03-23T07:56:02.907332Z",
     "iopub.status.busy": "2024-03-23T07:56:02.906703Z",
     "iopub.status.idle": "2024-03-23T07:56:02.949378Z",
     "shell.execute_reply": "2024-03-23T07:56:02.948264Z",
     "shell.execute_reply.started": "2024-03-23T07:56:02.907306Z"
    },
    "tags": []
   },
   "outputs": [
    {
     "data": {
      "text/plain": [
       "12       backyard\n",
       "34    callonphone\n",
       "41          cheek\n",
       "43           chin\n",
       "51         cowboy\n",
       "Name: sign, dtype: object"
      ]
     },
     "execution_count": 43,
     "metadata": {},
     "output_type": "execute_result"
    }
   ],
   "source": [
    "# take the missing signs from the landmarks glossary to append them\n",
    "missing_signs = gloss_landmarks[~gloss_landmarks.sign.isin(most_used_signs)].sign\n",
    "missing_signs.head()"
   ]
  },
  {
   "cell_type": "code",
   "execution_count": 44,
   "id": "d88ce7c3-8268-46c1-af53-6e82ae237579",
   "metadata": {
    "execution": {
     "iopub.execute_input": "2024-03-23T07:56:04.806080Z",
     "iopub.status.busy": "2024-03-23T07:56:04.805183Z",
     "iopub.status.idle": "2024-03-23T07:56:04.848361Z",
     "shell.execute_reply": "2024-03-23T07:56:04.847082Z",
     "shell.execute_reply.started": "2024-03-23T07:56:04.806049Z"
    },
    "tags": []
   },
   "outputs": [
    {
     "data": {
      "text/plain": [
       "(49,)"
      ]
     },
     "execution_count": 44,
     "metadata": {},
     "output_type": "execute_result"
    }
   ],
   "source": [
    "missing_signs.shape"
   ]
  },
  {
   "cell_type": "code",
   "execution_count": 45,
   "id": "e589733d-934d-4330-921a-baaa0acdc5c1",
   "metadata": {
    "execution": {
     "iopub.execute_input": "2024-03-23T07:56:06.284448Z",
     "iopub.status.busy": "2024-03-23T07:56:06.283789Z",
     "iopub.status.idle": "2024-03-23T07:56:06.326074Z",
     "shell.execute_reply": "2024-03-23T07:56:06.324823Z",
     "shell.execute_reply.started": "2024-03-23T07:56:06.284419Z"
    },
    "tags": []
   },
   "outputs": [
    {
     "data": {
      "text/plain": [
       "0        book\n",
       "1       drink\n",
       "2      before\n",
       "3       chair\n",
       "4          go\n",
       "        ...  \n",
       "233      wake\n",
       "236      weus\n",
       "247     yucky\n",
       "248     zebra\n",
       "249    zipper\n",
       "Name: sign, Length: 250, dtype: object"
      ]
     },
     "execution_count": 45,
     "metadata": {},
     "output_type": "execute_result"
    }
   ],
   "source": [
    "all_signs = pd.concat([most_used_signs, missing_signs])\n",
    "all_signs"
   ]
  },
  {
   "cell_type": "code",
   "execution_count": 46,
   "id": "0525cb11-a85a-4305-9f88-8c90084d6c00",
   "metadata": {
    "execution": {
     "iopub.execute_input": "2024-03-23T07:56:12.024694Z",
     "iopub.status.busy": "2024-03-23T07:56:12.024306Z",
     "iopub.status.idle": "2024-03-23T07:56:12.067522Z",
     "shell.execute_reply": "2024-03-23T07:56:12.066022Z",
     "shell.execute_reply.started": "2024-03-23T07:56:12.024668Z"
    },
    "tags": []
   },
   "outputs": [
    {
     "data": {
      "text/plain": [
       "'/home/bfrisque/code/benoitfrisque/signlens/raw_data/asl-signs/glossary.csv'"
      ]
     },
     "execution_count": 46,
     "metadata": {},
     "output_type": "execute_result"
    }
   ],
   "source": [
    "glossary_csv_path = TRAIN_DATA_DIR + '/glossary.csv'\n",
    "glossary_csv_path "
   ]
  },
  {
   "cell_type": "code",
   "execution_count": 51,
   "id": "1bf37b04-a095-4f03-938a-a99486402517",
   "metadata": {
    "execution": {
     "iopub.execute_input": "2024-03-23T07:56:37.128876Z",
     "iopub.status.busy": "2024-03-23T07:56:37.127972Z",
     "iopub.status.idle": "2024-03-23T07:56:37.176998Z",
     "shell.execute_reply": "2024-03-23T07:56:37.175022Z",
     "shell.execute_reply.started": "2024-03-23T07:56:37.128848Z"
    },
    "tags": []
   },
   "outputs": [],
   "source": [
    "all_signs.to_csv(glossary_csv_path, index=True)"
   ]
  },
  {
   "cell_type": "code",
   "execution_count": 54,
   "id": "61b7a965-ec0c-4647-9d92-b097da8e12e5",
   "metadata": {
    "execution": {
     "iopub.execute_input": "2024-03-23T07:56:49.860111Z",
     "iopub.status.busy": "2024-03-23T07:56:49.859470Z",
     "iopub.status.idle": "2024-03-23T07:56:49.913542Z",
     "shell.execute_reply": "2024-03-23T07:56:49.912555Z",
     "shell.execute_reply.started": "2024-03-23T07:56:49.860082Z"
    },
    "tags": []
   },
   "outputs": [
    {
     "data": {
      "text/html": [
       "<div>\n",
       "<style scoped>\n",
       "    .dataframe tbody tr th:only-of-type {\n",
       "        vertical-align: middle;\n",
       "    }\n",
       "\n",
       "    .dataframe tbody tr th {\n",
       "        vertical-align: top;\n",
       "    }\n",
       "\n",
       "    .dataframe thead th {\n",
       "        text-align: right;\n",
       "    }\n",
       "</style>\n",
       "<table border=\"1\" class=\"dataframe\">\n",
       "  <thead>\n",
       "    <tr style=\"text-align: right;\">\n",
       "      <th></th>\n",
       "      <th>sign</th>\n",
       "    </tr>\n",
       "  </thead>\n",
       "  <tbody>\n",
       "    <tr>\n",
       "      <th>0</th>\n",
       "      <td>book</td>\n",
       "    </tr>\n",
       "    <tr>\n",
       "      <th>1</th>\n",
       "      <td>drink</td>\n",
       "    </tr>\n",
       "    <tr>\n",
       "      <th>2</th>\n",
       "      <td>before</td>\n",
       "    </tr>\n",
       "    <tr>\n",
       "      <th>3</th>\n",
       "      <td>chair</td>\n",
       "    </tr>\n",
       "    <tr>\n",
       "      <th>4</th>\n",
       "      <td>go</td>\n",
       "    </tr>\n",
       "    <tr>\n",
       "      <th>...</th>\n",
       "      <td>...</td>\n",
       "    </tr>\n",
       "    <tr>\n",
       "      <th>233</th>\n",
       "      <td>wake</td>\n",
       "    </tr>\n",
       "    <tr>\n",
       "      <th>236</th>\n",
       "      <td>weus</td>\n",
       "    </tr>\n",
       "    <tr>\n",
       "      <th>247</th>\n",
       "      <td>yucky</td>\n",
       "    </tr>\n",
       "    <tr>\n",
       "      <th>248</th>\n",
       "      <td>zebra</td>\n",
       "    </tr>\n",
       "    <tr>\n",
       "      <th>249</th>\n",
       "      <td>zipper</td>\n",
       "    </tr>\n",
       "  </tbody>\n",
       "</table>\n",
       "<p>250 rows × 1 columns</p>\n",
       "</div>"
      ],
      "text/plain": [
       "       sign\n",
       "0      book\n",
       "1     drink\n",
       "2    before\n",
       "3     chair\n",
       "4        go\n",
       "..      ...\n",
       "233    wake\n",
       "236    weus\n",
       "247   yucky\n",
       "248   zebra\n",
       "249  zipper\n",
       "\n",
       "[250 rows x 1 columns]"
      ]
     },
     "execution_count": 54,
     "metadata": {},
     "output_type": "execute_result"
    }
   ],
   "source": [
    "pd.read_csv(glossary_csv_path, index_col=0)"
   ]
  },
  {
   "cell_type": "code",
   "execution_count": null,
   "id": "161e0d2a-7a97-40c7-86e3-26caabac5bea",
   "metadata": {},
   "outputs": [],
   "source": []
  }
 ],
 "metadata": {
  "kernelspec": {
   "display_name": "Python 3 (ipykernel)",
   "language": "python",
   "name": "python3"
  },
  "language_info": {
   "codemirror_mode": {
    "name": "ipython",
    "version": 3
   },
   "file_extension": ".py",
   "mimetype": "text/x-python",
   "name": "python",
   "nbconvert_exporter": "python",
   "pygments_lexer": "ipython3",
   "version": "3.10.6"
  }
 },
 "nbformat": 4,
 "nbformat_minor": 5
}
